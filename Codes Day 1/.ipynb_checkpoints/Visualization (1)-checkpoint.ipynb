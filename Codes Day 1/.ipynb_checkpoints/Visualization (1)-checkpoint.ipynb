{
 "cells": [
  {
   "cell_type": "code",
   "execution_count": 1,
   "metadata": {
    "scrolled": true
   },
   "outputs": [
    {
     "ename": "NameError",
     "evalue": "name 'install' is not defined",
     "output_type": "error",
     "traceback": [
      "\u001b[1;31m---------------------------------------------------------------------------\u001b[0m",
      "\u001b[1;31mNameError\u001b[0m                                 Traceback (most recent call last)",
      "\u001b[1;32m<ipython-input-1-f8ac081a3081>\u001b[0m in \u001b[0;36m<module>\u001b[1;34m()\u001b[0m\n\u001b[1;32m----> 1\u001b[1;33m \u001b[0minstall\u001b[0m\u001b[1;33m.\u001b[0m\u001b[0mpackages\u001b[0m\u001b[1;33m(\u001b[0m\u001b[1;34m\"ggplot2\"\u001b[0m\u001b[1;33m)\u001b[0m \u001b[1;31m# Mengingstall packages ggplot2 *hanya untuk yang belum menginstall\u001b[0m\u001b[1;33m\u001b[0m\u001b[0m\n\u001b[0m",
      "\u001b[1;31mNameError\u001b[0m: name 'install' is not defined"
     ]
    }
   ],
   "source": [
    "install.packages(\"ggplot2\") # Mengingstall packages ggplot2 *hanya untuk yang belum menginstall"
   ]
  },
  {
   "cell_type": "code",
   "execution_count": null,
   "metadata": {},
   "outputs": [],
   "source": [
    "library(\"ggplot2\") # Menggunakan package ggplot2"
   ]
  },
  {
   "cell_type": "code",
   "execution_count": null,
   "metadata": {},
   "outputs": [],
   "source": [
    "library(ggplot2)"
   ]
  },
  {
   "cell_type": "code",
   "execution_count": null,
   "metadata": {},
   "outputs": [],
   "source": [
    "help(\"ggplot2\") # Melihat dokumentasi ggplot2"
   ]
  },
  {
   "cell_type": "code",
   "execution_count": null,
   "metadata": {},
   "outputs": [],
   "source": [
    "#data <- read.csv(\"data-1.csv\")  membaca data, lalu dimasukkan ke variabel data\n"
   ]
  },
  {
   "cell_type": "code",
   "execution_count": null,
   "metadata": {},
   "outputs": [],
   "source": [
    "data <- read.csv(\"data-1.csv\")\n",
    "data2 <- read.csv(\"data-2.csv\")"
   ]
  },
  {
   "cell_type": "code",
   "execution_count": null,
   "metadata": {},
   "outputs": [],
   "source": [
    "head(data, 10) # melihat beberapa data di awal"
   ]
  },
  {
   "cell_type": "markdown",
   "metadata": {},
   "source": [
    "# Data Visualization in R"
   ]
  },
  {
   "cell_type": "markdown",
   "metadata": {},
   "source": [
    "### Bar Chart"
   ]
  },
  {
   "cell_type": "markdown",
   "metadata": {},
   "source": [
    "R has given base function to create barplot"
   ]
  },
  {
   "cell_type": "code",
   "execution_count": null,
   "metadata": {
    "scrolled": true
   },
   "outputs": [],
   "source": [
    "head(data[c(\"number_project\",\"last_evaluation\")])"
   ]
  },
  {
   "cell_type": "code",
   "execution_count": null,
   "metadata": {},
   "outputs": [],
   "source": [
    "aw <- table(factor(data$number_project))\n",
    "bw <- table(factor(data$salary))"
   ]
  },
  {
   "cell_type": "code",
   "execution_count": null,
   "metadata": {},
   "outputs": [],
   "source": [
    "number_project <- table(factor(data$number_project) # Membuat tabel dari variabel number_project"
   ]
  },
  {
   "cell_type": "code",
   "execution_count": null,
   "metadata": {},
   "outputs": [],
   "source": [
    "options(repr.plot.width=5, repr.plot.height=5) # Mengatur panjang dan lebar dari plot yang akan dibuat"
   ]
  },
  {
   "cell_type": "code",
   "execution_count": null,
   "metadata": {
    "scrolled": false
   },
   "outputs": [],
   "source": [
    "barplot(bw) # Memplot data dalam bentuk tabel dengan menggunakan barplot"
   ]
  },
  {
   "cell_type": "markdown",
   "metadata": {},
   "source": [
    "library ggplot2 has a qplot to create the quick data visualization"
   ]
  },
  {
   "cell_type": "code",
   "execution_count": null,
   "metadata": {
    "scrolled": false
   },
   "outputs": [],
   "source": [
    "qplot(data$satisfaction_level) \n",
    "# Dengan menggunakan qplot pada ggplot2, kita tidak perlu mendefinisikan variabel \n",
    "# dalam bentuk tabel"
   ]
  },
  {
   "cell_type": "markdown",
   "metadata": {},
   "source": [
    "Using the ggplot function"
   ]
  },
  {
   "cell_type": "code",
   "execution_count": null,
   "metadata": {},
   "outputs": [],
   "source": [
    "#a <- ggplot(data, aes(x = factor(number_project))) # Menyiapkan plot dengan axis x merupakan variabel number_project\n",
    "a <- ggplot(data, aes(x = factor(number_project)))"
   ]
  },
  {
   "cell_type": "code",
   "execution_count": null,
   "metadata": {},
   "outputs": [],
   "source": [
    "a + geom_bar(fill = \"violet\", colour = \"purple\") +\n",
    "    theme(panel.background = element_rect(fill = \"white\"))"
   ]
  },
  {
   "cell_type": "code",
   "execution_count": null,
   "metadata": {
    "scrolled": false
   },
   "outputs": [],
   "source": [
    "ggplot(data, aes(x = factor(number_project))) + geom_bar(fill = \"yellow\", color = \"black\") +\n",
    "    theme(panel.background = element_rect(fill = \"white\", colour = \"black\")) \n",
    "# Plot ditambahkan dengan barplot, dengan warna biru dan border berwarna hitam"
   ]
  },
  {
   "cell_type": "code",
   "execution_count": null,
   "metadata": {},
   "outputs": [],
   "source": [
    "ggplot(data, aes(x = factor(number_project), fill = factor(left))) \n",
    "# Menyiapkan plot dengan axis x merupakan variabel number_project\n",
    "# Plot akan dikelompokkan pada setiap kategori number_project"
   ]
  },
  {
   "cell_type": "code",
   "execution_count": null,
   "metadata": {
    "scrolled": false
   },
   "outputs": [],
   "source": [
    "ggplot(data, aes(x = factor(number_project), fill = factor(left))) +\n",
    "    geom_bar(position = \"dodge\", colour = \"black\")\n",
    "# Menambahkan barplot, dengan memisahkan setiap kelompok pada grade menjadi bar yang berbeda\n",
    "# dengan menggunakan border hitam"
   ]
  },
  {
   "cell_type": "code",
   "execution_count": null,
   "metadata": {},
   "outputs": [],
   "source": [
    "ggplot(data, aes(x = factor(number_project), fill = factor(left))) +\n",
    "    geom_bar(position = \"stack\", colour = \"black\")\n",
    "# Menambahkan barplot, dengan memisahkan setiap kelompok pada grade menjadi bar yang berbeda\n",
    "# dengan menggunakan border hitam"
   ]
  },
  {
   "cell_type": "code",
   "execution_count": null,
   "metadata": {},
   "outputs": [],
   "source": [
    "ggplot(data, aes(x = factor(number_project), fill = factor(left))) +\n",
    "    geom_bar(position = \"fill\", colour = \"black\")"
   ]
  },
  {
   "cell_type": "code",
   "execution_count": null,
   "metadata": {
    "scrolled": false
   },
   "outputs": [],
   "source": [
    "ggplot(data, aes(x = factor(number_project), fill = factor(time_spend_company))) +\n",
    "    geom_bar(position = \"stack\", colour = \"black\") +\n",
    "    scale_fill_brewer(palette = 13) + # Membuat gradasi warna untuk setiap kelompol\n",
    "    xlab(label = \"Number of Projects\") + # Menambahkan label untuk axis x\n",
    "    ylab(label = NULL) + # Membuat label untuk axis y tidak ada\n",
    "    labs(fill = \"Time Spend\")"
   ]
  },
  {
   "cell_type": "code",
   "execution_count": null,
   "metadata": {},
   "outputs": [],
   "source": [
    "ggplot(data, aes(factor(number_project), fill = factor(time_spend_company))) +\n",
    "    geom_bar(position = \"fill\", colour = \"black\") + # seperti stack namun dalam bentuk persentasi\n",
    "    scale_fill_brewer(palette = 15) + # Membuat gradasi warna untuk setiap kelompol\n",
    "    xlab(label = \"Number of Projects\") + # Menambahkan label untuk axis x\n",
    "    ylab(label = NULL) + # Membuat label untuk axis y tidak ada\n",
    "    labs(fill = \"Time Spend\")"
   ]
  },
  {
   "cell_type": "markdown",
   "metadata": {},
   "source": [
    "### Histogram"
   ]
  },
  {
   "cell_type": "code",
   "execution_count": null,
   "metadata": {},
   "outputs": [],
   "source": [
    "qplot(data$satisfaction_level, binwidth = 0.5) # Membuat 40 histogram dari interval variabel satisfaction_level (numerik)\n",
    "# interval tersebut ukurannya sama"
   ]
  },
  {
   "cell_type": "code",
   "execution_count": null,
   "metadata": {},
   "outputs": [],
   "source": [
    "ggplot(data, aes(x = satisfaction_level)) + \n",
    "    geom_histogram(binwidth = 0.01) # menambahkan histogram dengan panjang interval 500  "
   ]
  },
  {
   "cell_type": "code",
   "execution_count": null,
   "metadata": {},
   "outputs": [],
   "source": [
    "ggplot(data, aes(x = satisfaction_level)) + \n",
    "    geom_histogram(bins = 30, fill = \"white\", color = \"black\") \n",
    "# Membuat 20 histogram dengan warna putih dan border hitam "
   ]
  },
  {
   "cell_type": "code",
   "execution_count": null,
   "metadata": {
    "scrolled": false
   },
   "outputs": [],
   "source": [
    "ggplot(data, aes(x = satisfaction_level)) + \n",
    "    geom_histogram(bins = 5, fill = \"white\", color = \"black\") +\n",
    "    facet_grid(left ~ factor(number_project)) \n",
    "# Data dipisahkan menjadi berdasarkan variable satisfaction_level secara vertical\n",
    "# facet_grid(vertical ~ horizontal)"
   ]
  },
  {
   "cell_type": "code",
   "execution_count": null,
   "metadata": {},
   "outputs": [],
   "source": [
    "ggplot(data, aes(x = satisfaction_level)) + \n",
    "    geom_histogram(bins = 20, fill = \"white\", color = \"black\") +\n",
    "    facet_grid(. ~ left) \n",
    "# Data dipisahkan menjadi berdasarkan variable satisfaction_level secara vertical\n",
    "# facet_grid(vertical ~ horizontal)"
   ]
  },
  {
   "cell_type": "markdown",
   "metadata": {},
   "source": [
    "### Density"
   ]
  },
  {
   "cell_type": "code",
   "execution_count": null,
   "metadata": {},
   "outputs": [],
   "source": [
    "ggplot(data, aes(x = salary)) + \n",
    "    geom_density() # Membuat distribusi dari variable satisfaction_level"
   ]
  },
  {
   "cell_type": "code",
   "execution_count": null,
   "metadata": {
    "scrolled": false
   },
   "outputs": [],
   "source": [
    "ggplot(data, aes(x = satisfaction_level, y=..density..)) + \n",
    "    geom_histogram(bins = 20, colour = \"grey\", fill = \"blue\", alpha = .2) + \n",
    "    geom_density()\n",
    "# Menambahkan plot histogram dengan gradasi yang tipis\n",
    "# Membuat distribusi dari variable satisfaction_level\n",
    "# geom_density merupakan geom_histogram yang dibuat smooth"
   ]
  },
  {
   "cell_type": "code",
   "execution_count": null,
   "metadata": {
    "scrolled": false
   },
   "outputs": [],
   "source": [
    "ggplot(data, aes(x = satisfaction_level)) + \n",
    "    geom_density(color = \"blue\", adjust = 0.1) + # Membuat histogram dengan ukuran 0.25 lalu dibuat smooth\n",
    "    geom_density(color = \"red\") + # Membuat histogram dengan ukuran 1 (default) lalu dibuat smooth\n",
    "    geom_density(color = \"green\", adjust = 2) # Membuat histogram dengan ukuran 2.5 lalu dibuat smooth\n",
    "# Semakin besar adjust, akan semakin smooth"
   ]
  },
  {
   "cell_type": "code",
   "execution_count": null,
   "metadata": {},
   "outputs": [],
   "source": [
    "ggplot(data, aes(x = satisfaction_level, colour = factor(left))) + \n",
    "    geom_density() # Membuat distribusi dari satisfaction_level dengan pengelompokan berdasarkan left"
   ]
  },
  {
   "cell_type": "code",
   "execution_count": null,
   "metadata": {},
   "outputs": [],
   "source": [
    "ggplot(data, aes(x = satisfaction_level, fill = factor(left))) + \n",
    "    geom_density(alpha = .2) # Membuat distribusi dari satisfaction_level dengan pengelompokan berdasarkan left"
   ]
  },
  {
   "cell_type": "markdown",
   "metadata": {},
   "source": [
    "### Boxplot"
   ]
  },
  {
   "cell_type": "code",
   "execution_count": null,
   "metadata": {},
   "outputs": [],
   "source": [
    "qplot(factor(1), data$satisfaction_level, geom = \"boxplot\") \n",
    "# Selain menggunakan density untuk melihat distribusi dapat digunakan boxplot\n",
    "# Boxplot menggambarkan Quartil atas, bawah dan median\n",
    "# Titik - titik menggambarkan outlier"
   ]
  },
  {
   "cell_type": "code",
   "execution_count": null,
   "metadata": {},
   "outputs": [],
   "source": [
    "qplot(factor(data$left), data$satisfaction_level, geom = \"boxplot\")\n",
    "# Membuat boxplot dari variable left dan satisfaction_level"
   ]
  },
  {
   "cell_type": "code",
   "execution_count": null,
   "metadata": {
    "scrolled": false
   },
   "outputs": [],
   "source": [
    "ggplot(data, aes(x = factor(left), y = satisfaction_level)) + geom_boxplot()\n",
    "# Selain menggunakan qblot, boxplot juga bisa menggunakan ggplot dengan function geom_boxplot"
   ]
  },
  {
   "cell_type": "code",
   "execution_count": null,
   "metadata": {},
   "outputs": [],
   "source": [
    "ggplot(data, aes(x = factor(left), y = average_montly_hours)) + geom_boxplot()"
   ]
  },
  {
   "cell_type": "code",
   "execution_count": null,
   "metadata": {
    "scrolled": false
   },
   "outputs": [],
   "source": [
    "ggplot(data, aes(x = factor(left), y = average_montly_hours)) + \n",
    "    geom_boxplot(outlier.size=1.5, outlier.shape=21) +\n",
    "    stat_summary(fun.y=\"mean\", geom=\"point\", shape=23, size=3, fill=\"white\") # Menambahkan nilai meannya "
   ]
  },
  {
   "cell_type": "markdown",
   "metadata": {},
   "source": [
    "## Scatter Plot"
   ]
  },
  {
   "cell_type": "code",
   "execution_count": null,
   "metadata": {},
   "outputs": [],
   "source": [
    "options(repr.plot.width=6, repr.plot.height=6) # Mengatur ukuran plot yang akan dibuat"
   ]
  },
  {
   "cell_type": "code",
   "execution_count": null,
   "metadata": {},
   "outputs": [],
   "source": [
    "ggplot(data, aes(x = last_evaluation, y = satisfaction_level)) + \n",
    "    geom_point(shape = 108) # Menambahkan scatter plot"
   ]
  },
  {
   "cell_type": "code",
   "execution_count": null,
   "metadata": {},
   "outputs": [],
   "source": [
    "ggplot(data, aes(x = last_evaluation, y = satisfaction_level)) + \n",
    "    geom_point(shape = 21) # Argumen shape untuk menentukan bentuk dari data "
   ]
  },
  {
   "cell_type": "code",
   "execution_count": null,
   "metadata": {},
   "outputs": [],
   "source": [
    "ggplot(data, aes(x = last_evaluation, y = satisfaction_level)) + \n",
    "    geom_point(size = .5) # Argumen size, menentukan besarnya titik yang akan diplot"
   ]
  },
  {
   "cell_type": "code",
   "execution_count": null,
   "metadata": {},
   "outputs": [],
   "source": [
    "ggplot(data, aes(x = last_evaluation, y = satisfaction_level)) + \n",
    "    geom_point(aes(colour = factor(left), shape = factor(left)), size = 2)\n",
    "# Pengelompokan berdasarkan left dengan pewarnaan dan bentuk yang berbeda untuk masing2 kategori "
   ]
  },
  {
   "cell_type": "code",
   "execution_count": null,
   "metadata": {},
   "outputs": [],
   "source": [
    "ggplot(data, aes(x = last_evaluation, y = satisfaction_level)) + \n",
    "    geom_point(aes(colour = number_project, shape = factor(left)), size = 2, alpha = .8)\n"
   ]
  },
  {
   "cell_type": "markdown",
   "metadata": {},
   "source": [
    "## Line Plot"
   ]
  },
  {
   "cell_type": "code",
   "execution_count": null,
   "metadata": {},
   "outputs": [],
   "source": [
    "data1 <- read.csv(\"data-2.csv\")\n",
    "# Membaca data time series"
   ]
  },
  {
   "cell_type": "code",
   "execution_count": null,
   "metadata": {},
   "outputs": [],
   "source": [
    "head(data1)\n",
    "# Melihat beberapa data pertama"
   ]
  },
  {
   "cell_type": "code",
   "execution_count": null,
   "metadata": {},
   "outputs": [],
   "source": [
    "ggplot(data1, aes(x = seq(1:nrow(data1)), y = Price)) + # Axis x berisi data dari baris ke 1 sampai terakhir\n",
    "    geom_line() + # Membuat Line plot, biasanya digunakan line plot saat data berbentuk time series\n",
    "    xlab(label = \"Time\") # Membuat label dari axis x menjadi Time"
   ]
  },
  {
   "cell_type": "code",
   "execution_count": null,
   "metadata": {
    "scrolled": false
   },
   "outputs": [],
   "source": [
    "ggplot(data1, aes(x = seq(1:nrow(data1)), y = Price)) + # Axis x berisi data dari baris ke 1 sampai terakhir\n",
    "    geom_line() + # Membuat Line plot, biasanya digunakan line plot saat data berbentuk time series\n",
    "    geom_point() + # Memplot data\n",
    "    xlab(label = \"Time\") # Membuat label dari axis x menjadi Time"
   ]
  },
  {
   "cell_type": "code",
   "execution_count": null,
   "metadata": {},
   "outputs": [],
   "source": [
    "ggplot(data1, aes(x = seq(1:nrow(data1)), y = Price)) + # Axis x berisi data dari baris ke 1 sampai terakhir\n",
    "    geom_line() + # Membuat Line plot, biasanya digunakan line plot saat data berbentuk time series\n",
    "    geom_point(size = .75, colour = 'red') + # Memplot data, dengan warna merah dan ukuran 0.75\n",
    "    xlab(label = \"Time\") # Membuat label dari axis x menjadi Time"
   ]
  },
  {
   "cell_type": "code",
   "execution_count": null,
   "metadata": {},
   "outputs": [],
   "source": [
    "ggplot(data1, aes(x = seq(1:nrow(data1)), y = Price)) + # Axis x berisi data dari baris ke 1 sampai terakhir\n",
    "    geom_line(linetype = 'dashed', size = .25) + # Garis dibuat putus-putus\n",
    "    geom_point(size = .75, colour = 'red') + # Memplot data, dengan warna merah dan ukuran 0.75\n",
    "    xlab(label = \"Time\") # Membuat label dari axis x menjadi Time"
   ]
  },
  {
   "cell_type": "code",
   "execution_count": null,
   "metadata": {},
   "outputs": [],
   "source": [
    "??linetype"
   ]
  },
  {
   "cell_type": "code",
   "execution_count": null,
   "metadata": {},
   "outputs": [],
   "source": []
  }
 ],
 "metadata": {
  "kernelspec": {
   "display_name": "Python 3",
   "language": "python",
   "name": "python3"
  },
  "language_info": {
   "codemirror_mode": {
    "name": "ipython",
    "version": 3
   },
   "file_extension": ".py",
   "mimetype": "text/x-python",
   "name": "python",
   "nbconvert_exporter": "python",
   "pygments_lexer": "ipython3",
   "version": "3.6.5"
  }
 },
 "nbformat": 4,
 "nbformat_minor": 2
}
