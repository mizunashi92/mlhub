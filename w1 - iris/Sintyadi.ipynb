{
 "cells": [
  {
   "cell_type": "code",
   "execution_count": 123,
   "metadata": {
    "collapsed": true
   },
   "outputs": [],
   "source": [
    "import numpy as np\n",
    "import pandas as pd\n"
   ]
  },
  {
   "cell_type": "code",
   "execution_count": 124,
   "metadata": {
    "collapsed": true
   },
   "outputs": [],
   "source": [
    "data = pd.read_csv('irisdata.csv', header=None)"
   ]
  },
  {
   "cell_type": "code",
   "execution_count": 125,
   "metadata": {},
   "outputs": [
    {
     "data": {
      "text/plain": [
       "(150, 5)"
      ]
     },
     "execution_count": 125,
     "metadata": {},
     "output_type": "execute_result"
    }
   ],
   "source": [
    "data.shape"
   ]
  },
  {
   "cell_type": "code",
   "execution_count": 126,
   "metadata": {
    "collapsed": true
   },
   "outputs": [],
   "source": [
    "data.columns = ['splength','spwdith','ptlength','ptwidth','name']"
   ]
  },
  {
   "cell_type": "code",
   "execution_count": 127,
   "metadata": {},
   "outputs": [
    {
     "data": {
      "text/html": [
       "<div>\n",
       "<style>\n",
       "    .dataframe thead tr:only-child th {\n",
       "        text-align: right;\n",
       "    }\n",
       "\n",
       "    .dataframe thead th {\n",
       "        text-align: left;\n",
       "    }\n",
       "\n",
       "    .dataframe tbody tr th {\n",
       "        vertical-align: top;\n",
       "    }\n",
       "</style>\n",
       "<table border=\"1\" class=\"dataframe\">\n",
       "  <thead>\n",
       "    <tr style=\"text-align: right;\">\n",
       "      <th></th>\n",
       "      <th>splength</th>\n",
       "      <th>spwdith</th>\n",
       "      <th>ptlength</th>\n",
       "      <th>ptwidth</th>\n",
       "      <th>name</th>\n",
       "    </tr>\n",
       "  </thead>\n",
       "  <tbody>\n",
       "    <tr>\n",
       "      <th>0</th>\n",
       "      <td>5.1</td>\n",
       "      <td>3.5</td>\n",
       "      <td>1.4</td>\n",
       "      <td>0.2</td>\n",
       "      <td>Iris-setosa</td>\n",
       "    </tr>\n",
       "    <tr>\n",
       "      <th>1</th>\n",
       "      <td>4.9</td>\n",
       "      <td>3.0</td>\n",
       "      <td>1.4</td>\n",
       "      <td>0.2</td>\n",
       "      <td>Iris-setosa</td>\n",
       "    </tr>\n",
       "    <tr>\n",
       "      <th>2</th>\n",
       "      <td>4.7</td>\n",
       "      <td>3.2</td>\n",
       "      <td>1.3</td>\n",
       "      <td>0.2</td>\n",
       "      <td>Iris-setosa</td>\n",
       "    </tr>\n",
       "    <tr>\n",
       "      <th>3</th>\n",
       "      <td>4.6</td>\n",
       "      <td>3.1</td>\n",
       "      <td>1.5</td>\n",
       "      <td>0.2</td>\n",
       "      <td>Iris-setosa</td>\n",
       "    </tr>\n",
       "    <tr>\n",
       "      <th>4</th>\n",
       "      <td>5.0</td>\n",
       "      <td>3.6</td>\n",
       "      <td>1.4</td>\n",
       "      <td>0.2</td>\n",
       "      <td>Iris-setosa</td>\n",
       "    </tr>\n",
       "  </tbody>\n",
       "</table>\n",
       "</div>"
      ],
      "text/plain": [
       "   splength  spwdith  ptlength  ptwidth         name\n",
       "0       5.1      3.5       1.4      0.2  Iris-setosa\n",
       "1       4.9      3.0       1.4      0.2  Iris-setosa\n",
       "2       4.7      3.2       1.3      0.2  Iris-setosa\n",
       "3       4.6      3.1       1.5      0.2  Iris-setosa\n",
       "4       5.0      3.6       1.4      0.2  Iris-setosa"
      ]
     },
     "execution_count": 127,
     "metadata": {},
     "output_type": "execute_result"
    }
   ],
   "source": [
    "data.head()"
   ]
  },
  {
   "cell_type": "code",
   "execution_count": 128,
   "metadata": {
    "collapsed": true
   },
   "outputs": [],
   "source": [
    "def extractinputoutput(data, colname):\n",
    "    outputdata = data[colname]\n",
    "    inputdata = data.drop(colname, axis=1)\n",
    "    return inputdata,outputdata\n",
    "\n",
    "x, y = extractinputoutput(data, colname ='name')"
   ]
  },
  {
   "cell_type": "code",
   "execution_count": 129,
   "metadata": {
    "collapsed": true
   },
   "outputs": [],
   "source": [
    "from sklearn.model_selection import train_test_split\n",
    "x_train, x_test, y_train, y_test = train_test_split(x, y, test_size=0.2, random_state=123)"
   ]
  },
  {
   "cell_type": "code",
   "execution_count": 130,
   "metadata": {},
   "outputs": [
    {
     "data": {
      "text/plain": [
       "72     Iris-versicolor\n",
       "112     Iris-virginica\n",
       "132     Iris-virginica\n",
       "88     Iris-versicolor\n",
       "37         Iris-setosa\n",
       "138     Iris-virginica\n",
       "87     Iris-versicolor\n",
       "42         Iris-setosa\n",
       "8          Iris-setosa\n",
       "90     Iris-versicolor\n",
       "141     Iris-virginica\n",
       "33         Iris-setosa\n",
       "59     Iris-versicolor\n",
       "116     Iris-virginica\n",
       "135     Iris-virginica\n",
       "104     Iris-virginica\n",
       "36         Iris-setosa\n",
       "13         Iris-setosa\n",
       "63     Iris-versicolor\n",
       "45         Iris-setosa\n",
       "28         Iris-setosa\n",
       "133     Iris-virginica\n",
       "24         Iris-setosa\n",
       "127     Iris-virginica\n",
       "46         Iris-setosa\n",
       "20         Iris-setosa\n",
       "31         Iris-setosa\n",
       "121     Iris-virginica\n",
       "117     Iris-virginica\n",
       "4          Iris-setosa\n",
       "Name: name, dtype: object"
      ]
     },
     "execution_count": 130,
     "metadata": {},
     "output_type": "execute_result"
    }
   ],
   "source": [
    "y_test"
   ]
  },
  {
   "cell_type": "code",
   "execution_count": 131,
   "metadata": {},
   "outputs": [
    {
     "data": {
      "text/plain": [
       "splength    0\n",
       "spwdith     0\n",
       "ptlength    0\n",
       "ptwidth     0\n",
       "dtype: int64"
      ]
     },
     "execution_count": 131,
     "metadata": {},
     "output_type": "execute_result"
    }
   ],
   "source": [
    "x_train.isnull().sum()"
   ]
  },
  {
   "cell_type": "code",
   "execution_count": 132,
   "metadata": {
    "collapsed": true
   },
   "outputs": [],
   "source": [
    "from sklearn.preprocessing import StandardScaler\n",
    "\n",
    "def standardizer(data):\n",
    "    data_columns = data.columns  # agar nama column tidak hilang\n",
    "    data_index = data.index # agar index tidak hilang\n",
    "    normalize = StandardScaler()\n",
    "    normalize.fit(data)\n",
    "    \n",
    "    normalized_data = pd.DataFrame(normalize.transform(data), index = data_index)\n",
    "    normalized_data.columns = data_columns\n",
    "    return normalized_data, normalize\n",
    "\n",
    "x_train, normalize = standardizer(x_train)\n"
   ]
  },
  {
   "cell_type": "code",
   "execution_count": 133,
   "metadata": {},
   "outputs": [
    {
     "data": {
      "text/html": [
       "<div>\n",
       "<style>\n",
       "    .dataframe thead tr:only-child th {\n",
       "        text-align: right;\n",
       "    }\n",
       "\n",
       "    .dataframe thead th {\n",
       "        text-align: left;\n",
       "    }\n",
       "\n",
       "    .dataframe tbody tr th {\n",
       "        vertical-align: top;\n",
       "    }\n",
       "</style>\n",
       "<table border=\"1\" class=\"dataframe\">\n",
       "  <thead>\n",
       "    <tr style=\"text-align: right;\">\n",
       "      <th></th>\n",
       "      <th>splength</th>\n",
       "      <th>spwdith</th>\n",
       "      <th>ptlength</th>\n",
       "      <th>ptwidth</th>\n",
       "    </tr>\n",
       "  </thead>\n",
       "  <tbody>\n",
       "    <tr>\n",
       "      <th>130</th>\n",
       "      <td>1.891072</td>\n",
       "      <td>-0.549030</td>\n",
       "      <td>1.323848</td>\n",
       "      <td>0.915092</td>\n",
       "    </tr>\n",
       "    <tr>\n",
       "      <th>119</th>\n",
       "      <td>0.161621</td>\n",
       "      <td>-1.916855</td>\n",
       "      <td>0.684916</td>\n",
       "      <td>0.374151</td>\n",
       "    </tr>\n",
       "    <tr>\n",
       "      <th>29</th>\n",
       "      <td>-1.444297</td>\n",
       "      <td>0.362854</td>\n",
       "      <td>-1.289966</td>\n",
       "      <td>-1.383908</td>\n",
       "    </tr>\n",
       "    <tr>\n",
       "      <th>0</th>\n",
       "      <td>-0.950168</td>\n",
       "      <td>1.046766</td>\n",
       "      <td>-1.406135</td>\n",
       "      <td>-1.383908</td>\n",
       "    </tr>\n",
       "    <tr>\n",
       "      <th>62</th>\n",
       "      <td>0.161621</td>\n",
       "      <td>-1.916855</td>\n",
       "      <td>0.104069</td>\n",
       "      <td>-0.302026</td>\n",
       "    </tr>\n",
       "  </tbody>\n",
       "</table>\n",
       "</div>"
      ],
      "text/plain": [
       "     splength   spwdith  ptlength   ptwidth\n",
       "130  1.891072 -0.549030  1.323848  0.915092\n",
       "119  0.161621 -1.916855  0.684916  0.374151\n",
       "29  -1.444297  0.362854 -1.289966 -1.383908\n",
       "0   -0.950168  1.046766 -1.406135 -1.383908\n",
       "62   0.161621 -1.916855  0.104069 -0.302026"
      ]
     },
     "execution_count": 133,
     "metadata": {},
     "output_type": "execute_result"
    }
   ],
   "source": [
    "x_train.head()"
   ]
  },
  {
   "cell_type": "code",
   "execution_count": 134,
   "metadata": {},
   "outputs": [
    {
     "data": {
      "text/plain": [
       "Iris-versicolor    0.366667\n",
       "Iris-virginica     0.325000\n",
       "Iris-setosa        0.308333\n",
       "Name: name, dtype: float64"
      ]
     },
     "execution_count": 134,
     "metadata": {},
     "output_type": "execute_result"
    }
   ],
   "source": [
    "y_train.value_counts(normalize=True)"
   ]
  },
  {
   "cell_type": "code",
   "execution_count": 135,
   "metadata": {
    "collapsed": true
   },
   "outputs": [],
   "source": [
    "from sklearn.neighbors import KNeighborsClassifier\n",
    "from sklearn.model_selection import RandomizedSearchCV\n",
    "from sklearn.linear_model import LogisticRegression\n",
    "from sklearn.tree import DecisionTreeClassifier\n",
    "from sklearn.svm import SVC\n",
    "from sklearn.ensemble import BaggingClassifier, RandomForestClassifier, AdaBoostClassifier, GradientBoostingClassifier\n",
    "from sklearn.model_selection import RandomizedSearchCV\n",
    "from sklearn.metrics import accuracy_score, recall_score, precision_score, f1_score, roc_auc_score, log_loss\n",
    "from sklearn.externals import joblib"
   ]
  },
  {
   "cell_type": "code",
   "execution_count": 136,
   "metadata": {
    "collapsed": true
   },
   "outputs": [],
   "source": [
    "def knn_fit(x_train, y_train, scoring = 'accuracy'):\n",
    "    \n",
    "    knn = KNeighborsClassifier()\n",
    "    \n",
    "    hyperparam = {'n_neighbors' : [1,2,3,4,5,8,11,16,2132,64,128]}\n",
    "    \n",
    "    random_knn = RandomizedSearchCV(knn, param_distributions= hyperparam, cv = 5, n_iter = 3, scoring = scoring, n_jobs = -1, random_state =123)\n",
    "    \n",
    "    random_knn.fit(x_train,y_train)\n",
    "    print(\"Best Accuracy\", random_knn.best_score_) # best_score_ digunakan untuk melihat score hasil cross validation\n",
    "    print(\"Best Param\", random_knn.best_params_)\n",
    "    return random_knn \n",
    "    "
   ]
  },
  {
   "cell_type": "code",
   "execution_count": 137,
   "metadata": {},
   "outputs": [
    {
     "name": "stdout",
     "output_type": "stream",
     "text": [
      "Best Accuracy 0.9666666666666667\n",
      "Best Param {'n_neighbors': 8}\n"
     ]
    }
   ],
   "source": [
    "best_knn = knn_fit(x_train, y_train)"
   ]
  },
  {
   "cell_type": "code",
   "execution_count": 138,
   "metadata": {},
   "outputs": [
    {
     "data": {
      "text/plain": [
       "KNeighborsClassifier(algorithm='auto', leaf_size=30, metric='minkowski',\n",
       "           metric_params=None, n_jobs=1, n_neighbors=8, p=2,\n",
       "           weights='uniform')"
      ]
     },
     "execution_count": 138,
     "metadata": {},
     "output_type": "execute_result"
    }
   ],
   "source": [
    "knn = KNeighborsClassifier(n_neighbors = best_knn.best_params_.get('n_neighbors'))\n",
    "# fitting KNN\n",
    "knn.fit(x_train, y_train)"
   ]
  },
  {
   "cell_type": "code",
   "execution_count": 139,
   "metadata": {
    "collapsed": true
   },
   "outputs": [],
   "source": [
    "def rbfSVC_fit(x_train, y_train, scoring = 'accuracy'):\n",
    "    rbfSVC = SVC(kernel = 'rbf', random_state=123)\n",
    "\n",
    "    hyperparam = {'C': [1000, 333.33, 100, 33.33, 10, 3.33, 10, 3.33, 1, 0.33, 0.1, 0.033, 0.01, 0.0033, \n",
    "                        0.001, 0.00033, 0.0001], \n",
    "                  'gamma' : [10, 3.33, 1, 0.33, 0.1, 0.033, 0.01]}\n",
    "\n",
    "    random_rbfSVC = RandomizedSearchCV(rbfSVC, param_distributions = hyperparam, cv = 3,\n",
    "                                    n_iter = 6, scoring = scoring, n_jobs=-1, random_state = 123)\n",
    "    \n",
    "    random_rbfSVC.fit(x_train, y_train)\n",
    "    \n",
    "    print(\"Best Accuracy\", random_rbfSVC.best_score_)\n",
    "    print(\"Best Param\", random_rbfSVC.best_params_)\n",
    "    \n",
    "    return random_rbfSVC "
   ]
  },
  {
   "cell_type": "code",
   "execution_count": 140,
   "metadata": {},
   "outputs": [
    {
     "name": "stdout",
     "output_type": "stream",
     "text": [
      "Best Accuracy 0.9583333333333334\n",
      "Best Param {'gamma': 0.1, 'C': 1000}\n"
     ]
    }
   ],
   "source": [
    "best_rbfSVC = rbfSVC_fit(x_train, y_train) "
   ]
  },
  {
   "cell_type": "code",
   "execution_count": 141,
   "metadata": {},
   "outputs": [
    {
     "data": {
      "text/plain": [
       "SVC(C=1000, cache_size=200, class_weight=None, coef0=0.0,\n",
       "  decision_function_shape=None, degree=3, gamma=0.1, kernel='rbf',\n",
       "  max_iter=-1, probability=False, random_state=123, shrinking=True,\n",
       "  tol=0.001, verbose=False)"
      ]
     },
     "execution_count": 141,
     "metadata": {},
     "output_type": "execute_result"
    }
   ],
   "source": [
    "rbfSVC = SVC(kernel = 'rbf', C = best_rbfSVC.best_params_.get('C'), \n",
    "             gamma = best_rbfSVC.best_params_.get('gamma'), random_state = 123)\n",
    "rbfSVC.fit(x_train, y_train)"
   ]
  },
  {
   "cell_type": "code",
   "execution_count": 143,
   "metadata": {},
   "outputs": [
    {
     "data": {
      "text/plain": [
       "['rbfSVC.pkl']"
      ]
     },
     "execution_count": 143,
     "metadata": {},
     "output_type": "execute_result"
    }
   ],
   "source": [
    "from sklearn.externals import joblib\n",
    "\n",
    "joblib.dump(knn, 'knn.pkl')\n",
    "# # joblib.dump(logreg, 'model/logreg.pkl')\n",
    "# # joblib.dump(linSVC, 'model/linearSVC.pkl')\n",
    "joblib.dump(rbfSVC, 'rbfSVC.pkl')\n",
    "# # joblib.dump(decTree, 'model/decisionTree.pkl')\n",
    "# # joblib.dump(bagging, 'model/bagging.pkl')\n",
    "# # joblib.dump(randForest, 'model/randomForest.pkl')\n",
    "# # joblib.dump(adaboost, 'model/adaboost.pkl')\n",
    "# # joblib.dump(gradBoost, 'model/gradientBoosting.pkl')"
   ]
  },
  {
   "cell_type": "code",
   "execution_count": 144,
   "metadata": {
    "collapsed": true
   },
   "outputs": [],
   "source": [
    "def testData(data,  standard):\n",
    "    x_valid = data\n",
    "    x_valid_transform = pd.DataFrame(standard.transform(x_valid), index = data.index) # standardization\n",
    "    x_valid_transform.columns = x_valid.columns # samakan nama column\n",
    "        \n",
    "    return x_valid_transform\n",
    "\n",
    "x_test = testData(x_test, standard = normalize)"
   ]
  },
  {
   "cell_type": "code",
   "execution_count": 145,
   "metadata": {},
   "outputs": [
    {
     "data": {
      "text/html": [
       "<div>\n",
       "<style>\n",
       "    .dataframe thead tr:only-child th {\n",
       "        text-align: right;\n",
       "    }\n",
       "\n",
       "    .dataframe thead th {\n",
       "        text-align: left;\n",
       "    }\n",
       "\n",
       "    .dataframe tbody tr th {\n",
       "        vertical-align: top;\n",
       "    }\n",
       "</style>\n",
       "<table border=\"1\" class=\"dataframe\">\n",
       "  <thead>\n",
       "    <tr style=\"text-align: right;\">\n",
       "      <th></th>\n",
       "      <th>splength</th>\n",
       "      <th>spwdith</th>\n",
       "      <th>ptlength</th>\n",
       "      <th>ptwidth</th>\n",
       "    </tr>\n",
       "  </thead>\n",
       "  <tbody>\n",
       "    <tr>\n",
       "      <th>72</th>\n",
       "      <td>0.532218</td>\n",
       "      <td>-1.232943</td>\n",
       "      <td>0.626831</td>\n",
       "      <td>0.374151</td>\n",
       "    </tr>\n",
       "    <tr>\n",
       "      <th>112</th>\n",
       "      <td>1.149879</td>\n",
       "      <td>-0.093088</td>\n",
       "      <td>0.975340</td>\n",
       "      <td>1.185563</td>\n",
       "    </tr>\n",
       "    <tr>\n",
       "      <th>132</th>\n",
       "      <td>0.655750</td>\n",
       "      <td>-0.549030</td>\n",
       "      <td>1.033425</td>\n",
       "      <td>1.320798</td>\n",
       "    </tr>\n",
       "    <tr>\n",
       "      <th>88</th>\n",
       "      <td>-0.332507</td>\n",
       "      <td>-0.093088</td>\n",
       "      <td>0.162153</td>\n",
       "      <td>0.103680</td>\n",
       "    </tr>\n",
       "    <tr>\n",
       "      <th>37</th>\n",
       "      <td>-1.197233</td>\n",
       "      <td>0.134883</td>\n",
       "      <td>-1.348050</td>\n",
       "      <td>-1.519144</td>\n",
       "    </tr>\n",
       "  </tbody>\n",
       "</table>\n",
       "</div>"
      ],
      "text/plain": [
       "     splength   spwdith  ptlength   ptwidth\n",
       "72   0.532218 -1.232943  0.626831  0.374151\n",
       "112  1.149879 -0.093088  0.975340  1.185563\n",
       "132  0.655750 -0.549030  1.033425  1.320798\n",
       "88  -0.332507 -0.093088  0.162153  0.103680\n",
       "37  -1.197233  0.134883 -1.348050 -1.519144"
      ]
     },
     "execution_count": 145,
     "metadata": {},
     "output_type": "execute_result"
    }
   ],
   "source": [
    "\n",
    "x_test.head()"
   ]
  },
  {
   "cell_type": "code",
   "execution_count": 148,
   "metadata": {
    "collapsed": true
   },
   "outputs": [],
   "source": [
    "def testPred(x_test, y_test, classifier, compute_score = True):\n",
    "    if compute_score == True:\n",
    "        score = classifier.score(x_test, y_test)\n",
    "        print(\"Accuracy\", score)\n",
    "        \n",
    "    valid_proba = pd.DataFrame(classifier.predict_proba(x_test)) # hasil prediksi\n",
    "    \n",
    "    return  valid_proba, score"
   ]
  },
  {
   "cell_type": "code",
   "execution_count": 149,
   "metadata": {},
   "outputs": [
    {
     "name": "stdout",
     "output_type": "stream",
     "text": [
      "KNN 0.9\n",
      "RBF SVC 0.9333333333333333\n"
     ]
    }
   ],
   "source": [
    "classifiers = [knn, rbfSVC]\n",
    "label = ['KNN', 'RBF SVC']\n",
    "for clf, i in zip(classifiers, label):\n",
    "    print(i, clf.score(x_test, y_test))"
   ]
  },
  {
   "cell_type": "code",
   "execution_count": null,
   "metadata": {
    "collapsed": true
   },
   "outputs": [],
   "source": []
  },
  {
   "cell_type": "code",
   "execution_count": null,
   "metadata": {
    "collapsed": true
   },
   "outputs": [],
   "source": []
  }
 ],
 "metadata": {
  "kernelspec": {
   "display_name": "Python 3",
   "language": "python",
   "name": "python3"
  },
  "language_info": {
   "codemirror_mode": {
    "name": "ipython",
    "version": 3
   },
   "file_extension": ".py",
   "mimetype": "text/x-python",
   "name": "python",
   "nbconvert_exporter": "python",
   "pygments_lexer": "ipython3",
   "version": "3.6.1"
  }
 },
 "nbformat": 4,
 "nbformat_minor": 2
}
