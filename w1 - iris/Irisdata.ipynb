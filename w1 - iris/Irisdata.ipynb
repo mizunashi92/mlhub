{
 "cells": [
  {
   "cell_type": "markdown",
   "metadata": {},
   "source": [
    "# DATA PREPARTION"
   ]
  },
  {
   "cell_type": "markdown",
   "metadata": {},
   "source": [
    "### Load and Install Packages"
   ]
  },
  {
   "cell_type": "code",
   "execution_count": 18,
   "metadata": {},
   "outputs": [
    {
     "name": "stderr",
     "output_type": "stream",
     "text": [
      "Installing package into 'C:/Users/USER/Documents/R/win-library/3.4'\n",
      "(as 'lib' is unspecified)\n",
      "Warning message:\n",
      "\"package 'RCurl' is in use and will not be installed\""
     ]
    },
    {
     "data": {
      "text/html": [
       "<table>\n",
       "<thead><tr><th scope=col>sepal_length</th><th scope=col>sepal_width</th><th scope=col>petal_length</th><th scope=col>petal_width</th><th scope=col>class</th></tr></thead>\n",
       "<tbody>\n",
       "\t<tr><td>5.1        </td><td>3.5        </td><td>1.4        </td><td>0.2        </td><td>Iris-setosa</td></tr>\n",
       "\t<tr><td>4.9        </td><td>3.0        </td><td>1.4        </td><td>0.2        </td><td>Iris-setosa</td></tr>\n",
       "\t<tr><td>4.7        </td><td>3.2        </td><td>1.3        </td><td>0.2        </td><td>Iris-setosa</td></tr>\n",
       "\t<tr><td>4.6        </td><td>3.1        </td><td>1.5        </td><td>0.2        </td><td>Iris-setosa</td></tr>\n",
       "\t<tr><td>5.0        </td><td>3.6        </td><td>1.4        </td><td>0.2        </td><td>Iris-setosa</td></tr>\n",
       "\t<tr><td>5.4        </td><td>3.9        </td><td>1.7        </td><td>0.4        </td><td>Iris-setosa</td></tr>\n",
       "</tbody>\n",
       "</table>\n"
      ],
      "text/latex": [
       "\\begin{tabular}{r|lllll}\n",
       " sepal\\_length & sepal\\_width & petal\\_length & petal\\_width & class\\\\\n",
       "\\hline\n",
       "\t 5.1         & 3.5         & 1.4         & 0.2         & Iris-setosa\\\\\n",
       "\t 4.9         & 3.0         & 1.4         & 0.2         & Iris-setosa\\\\\n",
       "\t 4.7         & 3.2         & 1.3         & 0.2         & Iris-setosa\\\\\n",
       "\t 4.6         & 3.1         & 1.5         & 0.2         & Iris-setosa\\\\\n",
       "\t 5.0         & 3.6         & 1.4         & 0.2         & Iris-setosa\\\\\n",
       "\t 5.4         & 3.9         & 1.7         & 0.4         & Iris-setosa\\\\\n",
       "\\end{tabular}\n"
      ],
      "text/markdown": [
       "\n",
       "sepal_length | sepal_width | petal_length | petal_width | class | \n",
       "|---|---|---|---|---|---|\n",
       "| 5.1         | 3.5         | 1.4         | 0.2         | Iris-setosa | \n",
       "| 4.9         | 3.0         | 1.4         | 0.2         | Iris-setosa | \n",
       "| 4.7         | 3.2         | 1.3         | 0.2         | Iris-setosa | \n",
       "| 4.6         | 3.1         | 1.5         | 0.2         | Iris-setosa | \n",
       "| 5.0         | 3.6         | 1.4         | 0.2         | Iris-setosa | \n",
       "| 5.4         | 3.9         | 1.7         | 0.4         | Iris-setosa | \n",
       "\n",
       "\n"
      ],
      "text/plain": [
       "  sepal_length sepal_width petal_length petal_width class      \n",
       "1 5.1          3.5         1.4          0.2         Iris-setosa\n",
       "2 4.9          3.0         1.4          0.2         Iris-setosa\n",
       "3 4.7          3.2         1.3          0.2         Iris-setosa\n",
       "4 4.6          3.1         1.5          0.2         Iris-setosa\n",
       "5 5.0          3.6         1.4          0.2         Iris-setosa\n",
       "6 5.4          3.9         1.7          0.4         Iris-setosa"
      ]
     },
     "metadata": {},
     "output_type": "display_data"
    }
   ],
   "source": [
    "#Install and load package\n",
    "install.packages(\"RCurl\")\n",
    "require(\"RCurl\") #Package to load csv from github\n",
    "\n",
    "#Load the data from github link\n",
    "x=getURL(\"https://raw.githubusercontent.com/mizunashi92/mlhub/master/w1%20-%20iris/irisdata.csv\")\n",
    "iris=read.csv(text = iris4)\n",
    "head(iris)"
   ]
  },
  {
   "cell_type": "markdown",
   "metadata": {},
   "source": [
    "### Define training and test set"
   ]
  },
  {
   "cell_type": "code",
   "execution_count": 26,
   "metadata": {},
   "outputs": [],
   "source": [
    "#Set seed before create random sample data\n",
    "set.seed(1)\n",
    "\n",
    "#Define training and test set (Distribution: 20% Test and 80% Training)\n",
    "i=sample(150,150*80/100)\n",
    "\n",
    "iris_train=iris[i,]\n",
    "iris_test=iris[-i,]"
   ]
  },
  {
   "cell_type": "markdown",
   "metadata": {},
   "source": [
    "###### Iris_train data"
   ]
  },
  {
   "cell_type": "code",
   "execution_count": 27,
   "metadata": {},
   "outputs": [
    {
     "data": {
      "text/html": [
       "<table>\n",
       "<thead><tr><th></th><th scope=col>sepal_length</th><th scope=col>sepal_width</th><th scope=col>petal_length</th><th scope=col>petal_width</th><th scope=col>class</th></tr></thead>\n",
       "<tbody>\n",
       "\t<tr><th scope=row>40</th><td>5.1            </td><td>3.4            </td><td>1.5            </td><td>0.2            </td><td>Iris-setosa    </td></tr>\n",
       "\t<tr><th scope=row>56</th><td>5.7            </td><td>2.8            </td><td>4.5            </td><td>1.3            </td><td>Iris-versicolor</td></tr>\n",
       "\t<tr><th scope=row>85</th><td>5.4            </td><td>3.0            </td><td>4.5            </td><td>1.5            </td><td>Iris-versicolor</td></tr>\n",
       "</tbody>\n",
       "</table>\n"
      ],
      "text/latex": [
       "\\begin{tabular}{r|lllll}\n",
       "  & sepal\\_length & sepal\\_width & petal\\_length & petal\\_width & class\\\\\n",
       "\\hline\n",
       "\t40 & 5.1             & 3.4             & 1.5             & 0.2             & Iris-setosa    \\\\\n",
       "\t56 & 5.7             & 2.8             & 4.5             & 1.3             & Iris-versicolor\\\\\n",
       "\t85 & 5.4             & 3.0             & 4.5             & 1.5             & Iris-versicolor\\\\\n",
       "\\end{tabular}\n"
      ],
      "text/markdown": [
       "\n",
       "| <!--/--> | sepal_length | sepal_width | petal_length | petal_width | class | \n",
       "|---|---|---|\n",
       "| 40 | 5.1             | 3.4             | 1.5             | 0.2             | Iris-setosa     | \n",
       "| 56 | 5.7             | 2.8             | 4.5             | 1.3             | Iris-versicolor | \n",
       "| 85 | 5.4             | 3.0             | 4.5             | 1.5             | Iris-versicolor | \n",
       "\n",
       "\n"
      ],
      "text/plain": [
       "   sepal_length sepal_width petal_length petal_width class          \n",
       "40 5.1          3.4         1.5          0.2         Iris-setosa    \n",
       "56 5.7          2.8         4.5          1.3         Iris-versicolor\n",
       "85 5.4          3.0         4.5          1.5         Iris-versicolor"
      ]
     },
     "metadata": {},
     "output_type": "display_data"
    },
    {
     "data": {
      "text/plain": [
       "  sepal_length    sepal_width     petal_length    petal_width   \n",
       " Min.   :4.300   Min.   :2.000   Min.   :1.100   Min.   :0.100  \n",
       " 1st Qu.:5.100   1st Qu.:2.800   1st Qu.:1.575   1st Qu.:0.300  \n",
       " Median :5.700   Median :3.000   Median :4.300   Median :1.300  \n",
       " Mean   :5.823   Mean   :3.052   Mean   :3.737   Mean   :1.196  \n",
       " 3rd Qu.:6.425   3rd Qu.:3.300   3rd Qu.:5.100   3rd Qu.:1.800  \n",
       " Max.   :7.900   Max.   :4.400   Max.   :6.900   Max.   :2.500  \n",
       "             class   \n",
       " Iris-setosa    :40  \n",
       " Iris-versicolor:42  \n",
       " Iris-virginica :38  \n",
       "                     \n",
       "                     \n",
       "                     "
      ]
     },
     "metadata": {},
     "output_type": "display_data"
    }
   ],
   "source": [
    "head (iris_train,3)\n",
    "summary (iris_train)"
   ]
  },
  {
   "cell_type": "markdown",
   "metadata": {},
   "source": [
    "###### Iris_test data"
   ]
  },
  {
   "cell_type": "code",
   "execution_count": 28,
   "metadata": {},
   "outputs": [
    {
     "data": {
      "text/html": [
       "<table>\n",
       "<thead><tr><th></th><th scope=col>sepal_length</th><th scope=col>sepal_width</th><th scope=col>petal_length</th><th scope=col>petal_width</th><th scope=col>class</th></tr></thead>\n",
       "<tbody>\n",
       "\t<tr><th scope=row>5</th><td>5.0        </td><td>3.6        </td><td>1.4        </td><td>0.2        </td><td>Iris-setosa</td></tr>\n",
       "\t<tr><th scope=row>11</th><td>5.4        </td><td>3.7        </td><td>1.5        </td><td>0.2        </td><td>Iris-setosa</td></tr>\n",
       "\t<tr><th scope=row>12</th><td>4.8        </td><td>3.4        </td><td>1.6        </td><td>0.2        </td><td>Iris-setosa</td></tr>\n",
       "</tbody>\n",
       "</table>\n"
      ],
      "text/latex": [
       "\\begin{tabular}{r|lllll}\n",
       "  & sepal\\_length & sepal\\_width & petal\\_length & petal\\_width & class\\\\\n",
       "\\hline\n",
       "\t5 & 5.0         & 3.6         & 1.4         & 0.2         & Iris-setosa\\\\\n",
       "\t11 & 5.4         & 3.7         & 1.5         & 0.2         & Iris-setosa\\\\\n",
       "\t12 & 4.8         & 3.4         & 1.6         & 0.2         & Iris-setosa\\\\\n",
       "\\end{tabular}\n"
      ],
      "text/markdown": [
       "\n",
       "| <!--/--> | sepal_length | sepal_width | petal_length | petal_width | class | \n",
       "|---|---|---|\n",
       "| 5 | 5.0         | 3.6         | 1.4         | 0.2         | Iris-setosa | \n",
       "| 11 | 5.4         | 3.7         | 1.5         | 0.2         | Iris-setosa | \n",
       "| 12 | 4.8         | 3.4         | 1.6         | 0.2         | Iris-setosa | \n",
       "\n",
       "\n"
      ],
      "text/plain": [
       "   sepal_length sepal_width petal_length petal_width class      \n",
       "5  5.0          3.6         1.4          0.2         Iris-setosa\n",
       "11 5.4          3.7         1.5          0.2         Iris-setosa\n",
       "12 4.8          3.4         1.6          0.2         Iris-setosa"
      ]
     },
     "metadata": {},
     "output_type": "display_data"
    },
    {
     "data": {
      "text/plain": [
       "  sepal_length    sepal_width     petal_length    petal_width  \n",
       " Min.   :4.600   Min.   :2.200   Min.   :1.000   Min.   :0.10  \n",
       " 1st Qu.:5.400   1st Qu.:2.800   1st Qu.:1.625   1st Qu.:0.40  \n",
       " Median :6.000   Median :3.000   Median :4.450   Median :1.35  \n",
       " Mean   :5.923   Mean   :3.063   Mean   :3.843   Mean   :1.21  \n",
       " 3rd Qu.:6.375   3rd Qu.:3.350   3rd Qu.:5.250   3rd Qu.:1.80  \n",
       " Max.   :7.600   Max.   :3.900   Max.   :6.600   Max.   :2.40  \n",
       "             class   \n",
       " Iris-setosa    :10  \n",
       " Iris-versicolor: 8  \n",
       " Iris-virginica :12  \n",
       "                     \n",
       "                     \n",
       "                     "
      ]
     },
     "metadata": {},
     "output_type": "display_data"
    }
   ],
   "source": [
    "head (iris_test,3)\n",
    "summary (iris_test)"
   ]
  },
  {
   "cell_type": "markdown",
   "metadata": {},
   "source": [
    "# --------------------------------------------------------------------------------------------------------------\n"
   ]
  },
  {
   "cell_type": "markdown",
   "metadata": {},
   "source": [
    "# CLASSIFICATION TREE"
   ]
  },
  {
   "cell_type": "markdown",
   "metadata": {},
   "source": [
    "### Packages Required"
   ]
  },
  {
   "cell_type": "code",
   "execution_count": 8,
   "metadata": {},
   "outputs": [
    {
     "name": "stderr",
     "output_type": "stream",
     "text": [
      "Installing packages into 'C:/Users/USER/Documents/R/win-library/3.4'\n",
      "(as 'lib' is unspecified)\n",
      "Warning message:\n",
      "\"packages 'rpart', 'rpart.plot' are in use and will not be installed\""
     ]
    }
   ],
   "source": [
    "install.packages(c(\"rpart\",\"rpart.plot\"))\n",
    "require(\"rpart\") #Package to create model using classification tree\n",
    "require(\"rpart.plot\") #Package to create plot for classification tree"
   ]
  },
  {
   "cell_type": "markdown",
   "metadata": {},
   "source": [
    "### Build model and plot"
   ]
  },
  {
   "cell_type": "code",
   "execution_count": 39,
   "metadata": {},
   "outputs": [
    {
     "name": "stdout",
     "output_type": "stream",
     "text": [
      "\n",
      "Classification tree:\n",
      "rpart(formula = class ~ ., data = iris, method = \"class\")\n",
      "\n",
      "Variables actually used in tree construction:\n",
      "[1] petal_length petal_width \n",
      "\n",
      "Root node error: 100/150 = 0.66667\n",
      "\n",
      "n= 150 \n",
      "\n",
      "    CP nsplit rel error xerror     xstd\n",
      "1 0.50      0      1.00   1.19 0.049592\n",
      "2 0.44      1      0.50   0.72 0.061188\n",
      "3 0.01      2      0.06   0.10 0.030551\n"
     ]
    }
   ],
   "source": [
    "#Create model using classification tree method\n",
    "fit_class_tree=rpart(class~., data=iris, method=\"class\")\n",
    "\n",
    "#Summary for above model\n",
    "printcp(fit_class_tree)"
   ]
  },
  {
   "cell_type": "raw",
   "metadata": {},
   "source": [
    "Based on summary above, we can see only petal_length and petal_width used to build the tree"
   ]
  },
  {
   "cell_type": "code",
   "execution_count": 41,
   "metadata": {},
   "outputs": [
    {
     "data": {
      "image/png": "[encoded data removed]",
      "text/plain": [
       "plot without title"
      ]
     },
     "metadata": {},
     "output_type": "display_data"
    },
    {
     "data": {
      "image/png": "[encoded data removed]",
      "text/plain": [
       "plot without title"
      ]
     },
     "metadata": {},
     "output_type": "display_data"
    }
   ],
   "source": [
    "# Create plot of the tree\n",
    "prp(fit_class_tree)\n",
    "rpart.plot(fit_class_tree)\n",
    "\n"
   ]
  },
  {
   "cell_type": "markdown",
   "metadata": {},
   "source": [
    "### Compute the prediction using train set"
   ]
  },
  {
   "cell_type": "code",
   "execution_count": 47,
   "metadata": {},
   "outputs": [
    {
     "data": {
      "text/html": [
       "<dl class=dl-horizontal>\n",
       "\t<dt>Iris-setosa</dt>\n",
       "\t\t<dd>40</dd>\n",
       "\t<dt>Iris-versicolor</dt>\n",
       "\t\t<dd>44</dd>\n",
       "\t<dt>Iris-virginica</dt>\n",
       "\t\t<dd>36</dd>\n",
       "</dl>\n"
      ],
      "text/latex": [
       "\\begin{description*}\n",
       "\\item[Iris-setosa] 40\n",
       "\\item[Iris-versicolor] 44\n",
       "\\item[Iris-virginica] 36\n",
       "\\end{description*}\n"
      ],
      "text/markdown": [
       "Iris-setosa\n",
       ":   40Iris-versicolor\n",
       ":   44Iris-virginica\n",
       ":   36\n",
       "\n"
      ],
      "text/plain": [
       "    Iris-setosa Iris-versicolor  Iris-virginica \n",
       "             40              44              36 "
      ]
     },
     "metadata": {},
     "output_type": "display_data"
    },
    {
     "data": {
      "text/html": [
       "0.97"
      ],
      "text/latex": [
       "0.97"
      ],
      "text/markdown": [
       "0.97"
      ],
      "text/plain": [
       "[1] 0.97"
      ]
     },
     "metadata": {},
     "output_type": "display_data"
    }
   ],
   "source": [
    "#Predict train data using classification tree model\n",
    "predict_ct_train=predict(fit_class_tree, iris_train, type=\"class\")\n",
    "summary(predict_ct_train)\n",
    "\n",
    "#Correct percentage for train set \n",
    "round(mean(predict_ct_train==iris_train$class),2)"
   ]
  },
  {
   "cell_type": "markdown",
   "metadata": {},
   "source": [
    "### Compute the prediction using test set"
   ]
  },
  {
   "cell_type": "code",
   "execution_count": 48,
   "metadata": {},
   "outputs": [
    {
     "data": {
      "text/html": [
       "<dl class=dl-horizontal>\n",
       "\t<dt>Iris-setosa</dt>\n",
       "\t\t<dd>10</dd>\n",
       "\t<dt>Iris-versicolor</dt>\n",
       "\t\t<dd>10</dd>\n",
       "\t<dt>Iris-virginica</dt>\n",
       "\t\t<dd>10</dd>\n",
       "</dl>\n"
      ],
      "text/latex": [
       "\\begin{description*}\n",
       "\\item[Iris-setosa] 10\n",
       "\\item[Iris-versicolor] 10\n",
       "\\item[Iris-virginica] 10\n",
       "\\end{description*}\n"
      ],
      "text/markdown": [
       "Iris-setosa\n",
       ":   10Iris-versicolor\n",
       ":   10Iris-virginica\n",
       ":   10\n",
       "\n"
      ],
      "text/plain": [
       "    Iris-setosa Iris-versicolor  Iris-virginica \n",
       "             10              10              10 "
      ]
     },
     "metadata": {},
     "output_type": "display_data"
    },
    {
     "data": {
      "text/html": [
       "0.93"
      ],
      "text/latex": [
       "0.93"
      ],
      "text/markdown": [
       "0.93"
      ],
      "text/plain": [
       "[1] 0.93"
      ]
     },
     "metadata": {},
     "output_type": "display_data"
    }
   ],
   "source": [
    "#Predict test data using classification tree model\n",
    "predict_ct_test=predict(fit_class_tree, iris_test, type=\"class\")\n",
    "summary(predict_ct_test)\n",
    "\n",
    "#Correct percentage for test set \n",
    "round(mean(predict_ct_test==iris_test$class),2)"
   ]
  },
  {
   "cell_type": "code",
   "execution_count": null,
   "metadata": {},
   "outputs": [],
   "source": []
  }
 ],
 "metadata": {
  "kernelspec": {
   "display_name": "R",
   "language": "R",
   "name": "ir"
  },
  "language_info": {
   "codemirror_mode": "r",
   "file_extension": ".r",
   "mimetype": "text/x-r-source",
   "name": "R",
   "pygments_lexer": "r",
   "version": "3.4.3"
  }
 },
 "nbformat": 4,
 "nbformat_minor": 2
}
